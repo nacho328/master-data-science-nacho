{
 "cells": [
  {
   "cell_type": "markdown",
   "metadata": {},
   "source": [
    "## Match searches with bookings\n",
    "\n",
    "- For every search in the searches file, find out whether the search ended up in a booking or not (using the info in the bookings file). For instance, search and booking origin and destination should match. \n",
    "\n",
    "- For the bookings file, origin and destination are the columns dep_port and arr_port, respectively. \n",
    "\n",
    "- Generate a CSV file with the search data, and an additional field, containing 1 if the search ended up in a booking, and 0 otherwise.\n",
    "\n"
   ]
  },
  {
   "cell_type": "markdown",
   "metadata": {},
   "source": [
    "Suggestion: follow the below plan of action:\n",
    "\n",
    "* Get familiar with the data\n",
    "* Select columns of interest\n",
    "* Decide what to do with NaNs\n",
    "\n",
    "* Make processing plan\n",
    "* Develop code that works with a sample\n",
    "\n",
    "* Adjust the code to work with Big data\n",
    "* Test big data approach on a sample\n",
    "\n",
    "* Run program with big data\n",
    "\n",
    "You can skip the first step this time, since you already did it for the other exercises"
   ]
  },
  {
   "cell_type": "markdown",
   "metadata": {},
   "source": [
    "## 2) Prepare the data for processing"
   ]
  },
  {
   "cell_type": "markdown",
   "metadata": {},
   "source": [
    "### Booking"
   ]
  },
  {
   "cell_type": "code",
   "execution_count": null,
   "metadata": {
    "collapsed": true
   },
   "outputs": [],
   "source": [
    "\n",
    "import pandas as pd\n",
    "import numpy as np\n",
    "import matplotlib.pyplot as plt\n",
    "%matplotlib inline\n",
    "plt.style.use('ggplot')"
   ]
  },
  {
   "cell_type": "code",
   "execution_count": 1,
   "metadata": {
    "collapsed": true
   },
   "outputs": [],
   "source": [
    "bookings_path = '/home/dsc/Data/challenge/bookings.csv.bz2'\n",
    "searches_path = '/home/dsc/Data/challenge/searches.csv.bz2'\n",
    "\n",
    "bookings_sample = pd.read_csv(bookings_path, sep= '^',\n",
    "                              nrows=100, \n",
    "                              dtype = bookings_sample.dtypes.to_dict(),\n",
    "                              usecols=cols_to_use_bookings)\n",
    "\n",
    "searches_sample = pd.read_csv(searches_path, sep= '^',\n",
    "                              nrows=100, \n",
    "                              dtype = bookings_sample.dtypes.to_dict(),\n",
    "                              usecols=cols_to_use_bookings)\n",
    "\n"
   ]
  },
  {
   "cell_type": "code",
   "execution_count": null,
   "metadata": {
    "collapsed": true
   },
   "outputs": [],
   "source": [
    "bookings_sample.drop_duplicates()  "
   ]
  },
  {
   "cell_type": "code",
   "execution_count": null,
   "metadata": {
    "collapsed": true
   },
   "outputs": [],
   "source": [
    "bookings_sample = pd.read_csv(bookings_path, sep= '^',\n",
    "                              nrows=100, \n",
    "                              dtype = bookings_sample.dtypes.to_dict(),\n",
    "                              usecols=cols_to_use_bookings)\n",
    "\n",
    "deduped_booking = booking.drop_duplicates()\n",
    "deduped_booking.shape\n"
   ]
  },
  {
   "cell_type": "markdown",
   "metadata": {},
   "source": [
    "#### We didnt check for duplicates so far... What if the file is has duplicated lines?"
   ]
  },
  {
   "cell_type": "code",
   "execution_count": null,
   "metadata": {
    "collapsed": true
   },
   "outputs": [],
   "source": []
  },
  {
   "cell_type": "markdown",
   "metadata": {},
   "source": [
    "http://stackoverflow.com/questions/24251219/pandas-read-csv-low-memory-and-dtype-options"
   ]
  },
  {
   "cell_type": "markdown",
   "metadata": {},
   "source": [
    "#### We have seen that we have white space in some columns...."
   ]
  },
  {
   "cell_type": "code",
   "execution_count": null,
   "metadata": {
    "collapsed": true
   },
   "outputs": [],
   "source": [
    "deduped_booking.columns = deduped_booking.columns.srt.strip()"
   ]
  },
  {
   "cell_type": "markdown",
   "metadata": {},
   "source": [
    "#### Could we do this with command line?"
   ]
  },
  {
   "cell_type": "markdown",
   "metadata": {},
   "source": [
    "###  Search"
   ]
  },
  {
   "cell_type": "code",
   "execution_count": null,
   "metadata": {
    "collapsed": true
   },
   "outputs": [],
   "source": []
  },
  {
   "cell_type": "markdown",
   "metadata": {},
   "source": [
    "### NaN and prepare dates"
   ]
  },
  {
   "cell_type": "code",
   "execution_count": null,
   "metadata": {
    "collapsed": true
   },
   "outputs": [],
   "source": []
  },
  {
   "cell_type": "markdown",
   "metadata": {},
   "source": [
    "## 3) Make processing plan"
   ]
  },
  {
   "cell_type": "markdown",
   "metadata": {},
   "source": [
    "Target: generate a CSV file with the search data, and an additional field, containing 1 if the search ended up in a booking, and 0 otherwise.\n",
    "\n",
    "1) remove duplicates\n",
    "\n",
    "2) parse dates from string to datetime\n",
    "\n",
    "3) remove whitespaces\n",
    "\n",
    "    a) from colum names\n",
    "    \n",
    "    b) from content\n",
    "\n",
    "4) remove NaN\n",
    "\n",
    "5) define the model\n",
    "    if there is one booking for a given O&D done at the same day as the search (for a given O&D), ALL searches of the day (for a given 0&D) might have resulted from the same source and will be set with 1.\n",
    "    This is regardless of the boarding time of the plane... So if I was looking for plane for the first 4 days of December for a given O&D all those searches would be set to 1 not just the one correspoding to the correct boarding time\n",
    "\n",
    "        match\n",
    "        Search : [search_date, O&D] \n",
    "        Booking: [Activity_date, O&D]\n",
    "\n",
    "6) execute the model\n",
    "\n",
    "    a) Group by bookings on [Activity_date, O&D] so that we dont have duplicates (and we can have number of bookings for the day), or we can just drop the duplicates\n",
    "    \n",
    "    b) search left join bookings adding \"Booked\" column\n",
    "    \n",
    "    c) test if the merge was done right\n",
    "    \n",
    "    d) fill NaN of \"booked\" column with 0\n",
    "    \n",
    "    e) pull all values of booked column >1 to 1"
   ]
  },
  {
   "cell_type": "markdown",
   "metadata": {
    "collapsed": true
   },
   "source": [
    "more complex... get number of segments from searches\n",
    "match search_date, and then split all O&D of all segments, and match the date of first flight of each segment (seg1Date, seg2Date)\n",
    "with boarding time and O&D and act_date of booking"
   ]
  },
  {
   "cell_type": "markdown",
   "metadata": {},
   "source": [
    "What do we have?"
   ]
  },
  {
   "cell_type": "code",
   "execution_count": null,
   "metadata": {
    "collapsed": true
   },
   "outputs": [],
   "source": [
    "deduped_bookings['crea_date'] = deduped_bookings['crea_date'].srt "
   ]
  },
  {
   "cell_type": "code",
   "execution_count": null,
   "metadata": {
    "collapsed": true
   },
   "outputs": [],
   "source": []
  },
  {
   "cell_type": "code",
   "execution_count": null,
   "metadata": {
    "collapsed": true
   },
   "outputs": [],
   "source": []
  },
  {
   "cell_type": "code",
   "execution_count": null,
   "metadata": {
    "collapsed": true
   },
   "outputs": [],
   "source": []
  },
  {
   "cell_type": "code",
   "execution_count": null,
   "metadata": {
    "collapsed": true
   },
   "outputs": [],
   "source": []
  },
  {
   "cell_type": "code",
   "execution_count": null,
   "metadata": {
    "collapsed": true
   },
   "outputs": [],
   "source": []
  },
  {
   "cell_type": "markdown",
   "metadata": {},
   "source": [
    "#### If we dont want to drop the duplicates"
   ]
  },
  {
   "cell_type": "code",
   "execution_count": null,
   "metadata": {
    "collapsed": true
   },
   "outputs": [],
   "source": []
  },
  {
   "cell_type": "markdown",
   "metadata": {},
   "source": [
    "### Now we have to put 1 to all the booking with Num of Bookings>1 in the clean file"
   ]
  },
  {
   "cell_type": "code",
   "execution_count": null,
   "metadata": {
    "collapsed": true
   },
   "outputs": [],
   "source": []
  },
  {
   "cell_type": "markdown",
   "metadata": {},
   "source": [
    "### Can we do it with concat?\n",
    "no, since it just joins on the index"
   ]
  },
  {
   "cell_type": "code",
   "execution_count": null,
   "metadata": {
    "collapsed": true
   },
   "outputs": [],
   "source": []
  },
  {
   "cell_type": "markdown",
   "metadata": {},
   "source": [
    "### Check if all airports are letters"
   ]
  },
  {
   "cell_type": "code",
   "execution_count": null,
   "metadata": {
    "collapsed": true
   },
   "outputs": [],
   "source": []
  }
 ],
 "metadata": {
  "kernelspec": {
   "display_name": "Python 3",
   "language": "python",
   "name": "python3"
  },
  "language_info": {
   "codemirror_mode": {
    "name": "ipython",
    "version": 3
   },
   "file_extension": ".py",
   "mimetype": "text/x-python",
   "name": "python",
   "nbconvert_exporter": "python",
   "pygments_lexer": "ipython3",
   "version": "3.6.2"
  }
 },
 "nbformat": 4,
 "nbformat_minor": 1
}
